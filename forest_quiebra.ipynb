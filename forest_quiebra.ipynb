{
 "cells": [
  {
   "cell_type": "code",
   "execution_count": 1,
   "metadata": {},
   "outputs": [],
   "source": [
    "import numpy as np\n",
    "import matplotlib.pyplot as plt\n",
    "import pandas as pd # para leer datos\n",
    "import sklearn.ensemble # para el random forest\n",
    "import sklearn.model_selection # para split train-test\n",
    "import sklearn.metrics # para calcular el f1-score\n",
    "%matplotlib inline"
   ]
  },
  {
   "cell_type": "code",
   "execution_count": 2,
   "metadata": {},
   "outputs": [
    {
     "name": "stdout",
     "output_type": "stream",
     "text": [
      "['WeekofPurchase', 'StoreID', 'PriceCH', 'PriceMM', 'DiscCH', 'DiscMM', 'SpecialCH', 'SpecialMM', 'LoyalCH', 'SalePriceMM', 'SalePriceCH', 'PriceDiff', 'ListPriceDiff', 'STORE'] (14,)\n"
     ]
    }
   ],
   "source": [
    "# Carga datos\n",
    "data = pd.read_csv('OJ.csv')\n",
    "\n",
    "# Remueve datos que no se van a utilizar\n",
    "data = data.drop(['Store7', 'PctDiscCH','PctDiscMM'],axis=1)\n",
    "\n",
    "# Crea un nuevo array que sera el target, 0 si MM, 1 si CH\n",
    "purchasebin = np.ones(len(data), dtype=int)\n",
    "ii = np.array(data['Purchase']=='MM')\n",
    "purchasebin[ii] = 0\n",
    "\n",
    "data['Target'] = purchasebin\n",
    "\n",
    "# Borra la columna Purchase\n",
    "data = data.drop(['Purchase'],axis=1)\n",
    "\n",
    "# Crea un dataframe con los predictores\n",
    "predictors = list(data.keys())\n",
    "predictors.remove('Target')\n",
    "predictors.remove('Unnamed: 0')\n",
    "print(predictors, np.shape(np.array(predictors)))"
   ]
  },
  {
   "cell_type": "code",
   "execution_count": 3,
   "metadata": {},
   "outputs": [],
   "source": [
    "X_train, X_test, y_train, y_test = sklearn.model_selection.train_test_split(\n",
    "                                    data[predictors], data['Target'], test_size=0.5)"
   ]
  },
  {
   "cell_type": "code",
   "execution_count": null,
   "metadata": {},
   "outputs": [],
   "source": []
  }
 ],
 "metadata": {
  "kernelspec": {
   "display_name": "Python 3",
   "language": "python",
   "name": "python3"
  },
  "language_info": {
   "codemirror_mode": {
    "name": "ipython",
    "version": 3
   },
   "file_extension": ".py",
   "mimetype": "text/x-python",
   "name": "python",
   "nbconvert_exporter": "python",
   "pygments_lexer": "ipython3",
   "version": "3.7.4"
  }
 },
 "nbformat": 4,
 "nbformat_minor": 2
}
