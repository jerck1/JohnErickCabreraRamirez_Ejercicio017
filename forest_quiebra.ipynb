{
 "cells": [
  {
   "cell_type": "code",
   "execution_count": null,
   "metadata": {},
   "outputs": [],
   "source": [
    "import numpy as np\n",
    "import matplotlib.pyplot as plt\n",
    "import pandas as pd # para leer datos\n",
    "import sklearn.ensemble # para el random forest\n",
    "import sklearn.model_selection # para split train-test\n",
    "import sklearn.metrics # para calcular el f1-score\n",
    "%matplotlib inline"
   ]
  },
  {
   "cell_type": "code",
   "execution_count": 115,
   "metadata": {
    "scrolled": true
   },
   "outputs": [],
   "source": [
    "# Carga datos\n",
    "data = pd.read_csv('{}year.arff'.format(1), skiprows=69, header=None)\n",
    "n_x,n_y=np.shape(data)"
   ]
  },
  {
   "cell_type": "code",
   "execution_count": 116,
   "metadata": {},
   "outputs": [],
   "source": [
    "def getIndexes(dfObj, value):\n",
    "    ''' Get index positions of value in dataframe i.e. dfObj.'''\n",
    " \n",
    "    listOfPos = list()\n",
    "    result = dfObj.isin([value])\n",
    "    seriesObj = result.any()\n",
    "    columnNames = list(seriesObj[seriesObj == True].index)\n",
    "    for col in columnNames:\n",
    "        rows = list(result[col][result[col] == True].index)\n",
    "        for row in rows:\n",
    "            listOfPos.append((row, col))\n",
    "    return listOfPos"
   ]
  },
  {
   "cell_type": "code",
   "execution_count": 117,
   "metadata": {
    "scrolled": true
   },
   "outputs": [],
   "source": [
    "listOfPositions = getIndexes(data,\"?\")\n",
    "\n",
    "#for i in range(len(listOfPositions)):\n",
    "#    print('Position ', i, ' (Row index , Column Name) : ', listOfPositions[i])"
   ]
  },
  {
   "cell_type": "code",
   "execution_count": 119,
   "metadata": {},
   "outputs": [
    {
     "data": {
      "text/html": [
       "<div>\n",
       "<style scoped>\n",
       "    .dataframe tbody tr th:only-of-type {\n",
       "        vertical-align: middle;\n",
       "    }\n",
       "\n",
       "    .dataframe tbody tr th {\n",
       "        vertical-align: top;\n",
       "    }\n",
       "\n",
       "    .dataframe thead th {\n",
       "        text-align: right;\n",
       "    }\n",
       "</style>\n",
       "<table border=\"1\" class=\"dataframe\">\n",
       "  <thead>\n",
       "    <tr style=\"text-align: right;\">\n",
       "      <th></th>\n",
       "      <th>12</th>\n",
       "      <th>18</th>\n",
       "      <th>19</th>\n",
       "      <th>22</th>\n",
       "      <th>29</th>\n",
       "      <th>30</th>\n",
       "      <th>38</th>\n",
       "      <th>41</th>\n",
       "      <th>42</th>\n",
       "      <th>43</th>\n",
       "      <th>48</th>\n",
       "      <th>54</th>\n",
       "      <th>55</th>\n",
       "      <th>57</th>\n",
       "      <th>61</th>\n",
       "      <th>64</th>\n",
       "    </tr>\n",
       "  </thead>\n",
       "  <tbody>\n",
       "    <tr>\n",
       "      <td>0</td>\n",
       "      <td>0.166600</td>\n",
       "      <td>0.149420</td>\n",
       "      <td>43.3700</td>\n",
       "      <td>0.119980</td>\n",
       "      <td>0.117880</td>\n",
       "      <td>0.149420</td>\n",
       "      <td>0.128040</td>\n",
       "      <td>0.128040</td>\n",
       "      <td>114.420</td>\n",
       "      <td>71.0500</td>\n",
       "      <td>0.110850</td>\n",
       "      <td>348690.0</td>\n",
       "      <td>0.121960</td>\n",
       "      <td>0.87804</td>\n",
       "      <td>82.658</td>\n",
       "      <td>0</td>\n",
       "    </tr>\n",
       "    <tr>\n",
       "      <td>1</td>\n",
       "      <td>0.158350</td>\n",
       "      <td>0.152000</td>\n",
       "      <td>87.9810</td>\n",
       "      <td>0.123040</td>\n",
       "      <td>0.269690</td>\n",
       "      <td>0.152000</td>\n",
       "      <td>0.121300</td>\n",
       "      <td>0.145950</td>\n",
       "      <td>199.490</td>\n",
       "      <td>111.5100</td>\n",
       "      <td>0.139610</td>\n",
       "      <td>2304.6</td>\n",
       "      <td>0.121300</td>\n",
       "      <td>0.85300</td>\n",
       "      <td>107.350</td>\n",
       "      <td>0</td>\n",
       "    </tr>\n",
       "    <tr>\n",
       "      <td>2</td>\n",
       "      <td>0.244350</td>\n",
       "      <td>0.236100</td>\n",
       "      <td>73.1330</td>\n",
       "      <td>0.189960</td>\n",
       "      <td>0.419290</td>\n",
       "      <td>0.238150</td>\n",
       "      <td>0.241140</td>\n",
       "      <td>0.231170</td>\n",
       "      <td>165.510</td>\n",
       "      <td>92.3810</td>\n",
       "      <td>0.222930</td>\n",
       "      <td>6332.7</td>\n",
       "      <td>0.241140</td>\n",
       "      <td>0.76599</td>\n",
       "      <td>134.270</td>\n",
       "      <td>0</td>\n",
       "    </tr>\n",
       "    <tr>\n",
       "      <td>3</td>\n",
       "      <td>0.094257</td>\n",
       "      <td>0.071428</td>\n",
       "      <td>79.7880</td>\n",
       "      <td>0.062782</td>\n",
       "      <td>0.143430</td>\n",
       "      <td>0.071428</td>\n",
       "      <td>0.088995</td>\n",
       "      <td>0.088995</td>\n",
       "      <td>180.770</td>\n",
       "      <td>100.9800</td>\n",
       "      <td>0.066165</td>\n",
       "      <td>20545.0</td>\n",
       "      <td>0.054015</td>\n",
       "      <td>0.94598</td>\n",
       "      <td>86.435</td>\n",
       "      <td>0</td>\n",
       "    </tr>\n",
       "    <tr>\n",
       "      <td>4</td>\n",
       "      <td>0.121820</td>\n",
       "      <td>0.115530</td>\n",
       "      <td>57.0450</td>\n",
       "      <td>0.115530</td>\n",
       "      <td>0.278840</td>\n",
       "      <td>0.115530</td>\n",
       "      <td>0.122310</td>\n",
       "      <td>0.122310</td>\n",
       "      <td>141.620</td>\n",
       "      <td>84.5740</td>\n",
       "      <td>0.116010</td>\n",
       "      <td>3186.6</td>\n",
       "      <td>0.134850</td>\n",
       "      <td>0.86515</td>\n",
       "      <td>127.210</td>\n",
       "      <td>0</td>\n",
       "    </tr>\n",
       "    <tr>\n",
       "      <td>...</td>\n",
       "      <td>...</td>\n",
       "      <td>...</td>\n",
       "      <td>...</td>\n",
       "      <td>...</td>\n",
       "      <td>...</td>\n",
       "      <td>...</td>\n",
       "      <td>...</td>\n",
       "      <td>...</td>\n",
       "      <td>...</td>\n",
       "      <td>...</td>\n",
       "      <td>...</td>\n",
       "      <td>...</td>\n",
       "      <td>...</td>\n",
       "      <td>...</td>\n",
       "      <td>...</td>\n",
       "      <td>...</td>\n",
       "    </tr>\n",
       "    <tr>\n",
       "      <td>7022</td>\n",
       "      <td>0.020881</td>\n",
       "      <td>0.004526</td>\n",
       "      <td>4.9656</td>\n",
       "      <td>0.004526</td>\n",
       "      <td>0.093539</td>\n",
       "      <td>0.004526</td>\n",
       "      <td>0.007891</td>\n",
       "      <td>0.007891</td>\n",
       "      <td>9.572</td>\n",
       "      <td>4.6064</td>\n",
       "      <td>-0.008464</td>\n",
       "      <td>-2732.8</td>\n",
       "      <td>0.011909</td>\n",
       "      <td>0.98809</td>\n",
       "      <td>31.268</td>\n",
       "      <td>1</td>\n",
       "    </tr>\n",
       "    <tr>\n",
       "      <td>7023</td>\n",
       "      <td>0.037092</td>\n",
       "      <td>-0.012158</td>\n",
       "      <td>34.4360</td>\n",
       "      <td>-0.010802</td>\n",
       "      <td>0.466270</td>\n",
       "      <td>-0.012158</td>\n",
       "      <td>-0.007072</td>\n",
       "      <td>-0.007072</td>\n",
       "      <td>85.314</td>\n",
       "      <td>50.8790</td>\n",
       "      <td>-0.056322</td>\n",
       "      <td>-2557.1</td>\n",
       "      <td>-0.011082</td>\n",
       "      <td>1.01110</td>\n",
       "      <td>94.092</td>\n",
       "      <td>1</td>\n",
       "    </tr>\n",
       "    <tr>\n",
       "      <td>7024</td>\n",
       "      <td>0.014722</td>\n",
       "      <td>0.003342</td>\n",
       "      <td>34.8620</td>\n",
       "      <td>0.001762</td>\n",
       "      <td>0.138060</td>\n",
       "      <td>0.003342</td>\n",
       "      <td>0.004048</td>\n",
       "      <td>0.004048</td>\n",
       "      <td>94.936</td>\n",
       "      <td>60.0740</td>\n",
       "      <td>-0.007331</td>\n",
       "      <td>4826.9</td>\n",
       "      <td>0.008258</td>\n",
       "      <td>0.99174</td>\n",
       "      <td>51.019</td>\n",
       "      <td>1</td>\n",
       "    </tr>\n",
       "    <tr>\n",
       "      <td>7025</td>\n",
       "      <td>-0.030657</td>\n",
       "      <td>-0.087322</td>\n",
       "      <td>9.1932</td>\n",
       "      <td>-0.098825</td>\n",
       "      <td>2.011900</td>\n",
       "      <td>0.015220</td>\n",
       "      <td>-0.232720</td>\n",
       "      <td>0.015220</td>\n",
       "      <td>125.360</td>\n",
       "      <td>116.1700</td>\n",
       "      <td>-0.041444</td>\n",
       "      <td>-1633.0</td>\n",
       "      <td>-0.232720</td>\n",
       "      <td>0.98788</td>\n",
       "      <td>261.850</td>\n",
       "      <td>1</td>\n",
       "    </tr>\n",
       "    <tr>\n",
       "      <td>7026</td>\n",
       "      <td>0.015420</td>\n",
       "      <td>0.005139</td>\n",
       "      <td>24.2750</td>\n",
       "      <td>0.005034</td>\n",
       "      <td>0.316370</td>\n",
       "      <td>0.014846</td>\n",
       "      <td>0.015677</td>\n",
       "      <td>0.016558</td>\n",
       "      <td>111.720</td>\n",
       "      <td>87.4430</td>\n",
       "      <td>0.006277</td>\n",
       "      <td>42.0</td>\n",
       "      <td>0.015705</td>\n",
       "      <td>0.97443</td>\n",
       "      <td>108.640</td>\n",
       "      <td>1</td>\n",
       "    </tr>\n",
       "  </tbody>\n",
       "</table>\n",
       "<p>7027 rows × 16 columns</p>\n",
       "</div>"
      ],
      "text/plain": [
       "            12        18       19        22        29        30        38  \\\n",
       "0     0.166600  0.149420  43.3700  0.119980  0.117880  0.149420  0.128040   \n",
       "1     0.158350  0.152000  87.9810  0.123040  0.269690  0.152000  0.121300   \n",
       "2     0.244350  0.236100  73.1330  0.189960  0.419290  0.238150  0.241140   \n",
       "3     0.094257  0.071428  79.7880  0.062782  0.143430  0.071428  0.088995   \n",
       "4     0.121820  0.115530  57.0450  0.115530  0.278840  0.115530  0.122310   \n",
       "...        ...       ...      ...       ...       ...       ...       ...   \n",
       "7022  0.020881  0.004526   4.9656  0.004526  0.093539  0.004526  0.007891   \n",
       "7023  0.037092 -0.012158  34.4360 -0.010802  0.466270 -0.012158 -0.007072   \n",
       "7024  0.014722  0.003342  34.8620  0.001762  0.138060  0.003342  0.004048   \n",
       "7025 -0.030657 -0.087322   9.1932 -0.098825  2.011900  0.015220 -0.232720   \n",
       "7026  0.015420  0.005139  24.2750  0.005034  0.316370  0.014846  0.015677   \n",
       "\n",
       "            41       42        43        48        54        55       57  \\\n",
       "0     0.128040  114.420   71.0500  0.110850  348690.0  0.121960  0.87804   \n",
       "1     0.145950  199.490  111.5100  0.139610    2304.6  0.121300  0.85300   \n",
       "2     0.231170  165.510   92.3810  0.222930    6332.7  0.241140  0.76599   \n",
       "3     0.088995  180.770  100.9800  0.066165   20545.0  0.054015  0.94598   \n",
       "4     0.122310  141.620   84.5740  0.116010    3186.6  0.134850  0.86515   \n",
       "...        ...      ...       ...       ...       ...       ...      ...   \n",
       "7022  0.007891    9.572    4.6064 -0.008464   -2732.8  0.011909  0.98809   \n",
       "7023 -0.007072   85.314   50.8790 -0.056322   -2557.1 -0.011082  1.01110   \n",
       "7024  0.004048   94.936   60.0740 -0.007331    4826.9  0.008258  0.99174   \n",
       "7025  0.015220  125.360  116.1700 -0.041444   -1633.0 -0.232720  0.98788   \n",
       "7026  0.016558  111.720   87.4430  0.006277      42.0  0.015705  0.97443   \n",
       "\n",
       "           61  64  \n",
       "0      82.658   0  \n",
       "1     107.350   0  \n",
       "2     134.270   0  \n",
       "3      86.435   0  \n",
       "4     127.210   0  \n",
       "...       ...  ..  \n",
       "7022   31.268   1  \n",
       "7023   94.092   1  \n",
       "7024   51.019   1  \n",
       "7025  261.850   1  \n",
       "7026  108.640   1  \n",
       "\n",
       "[7027 rows x 16 columns]"
      ]
     },
     "execution_count": 119,
     "metadata": {},
     "output_type": "execute_result"
    }
   ],
   "source": [
    "listOfPositions=np.array(listOfPositions)\n",
    "data2 = data.drop(listOfPositions[:,1],axis=1)\n",
    "np.shape(data2)"
   ]
  },
  {
   "cell_type": "code",
   "execution_count": 94,
   "metadata": {},
   "outputs": [
    {
     "ename": "AttributeError",
     "evalue": "'DataFrame' object has no attribute 'find'",
     "output_type": "error",
     "traceback": [
      "\u001b[0;31m---------------------------------------------------------------------------\u001b[0m",
      "\u001b[0;31mAttributeError\u001b[0m                            Traceback (most recent call last)",
      "\u001b[0;32m<ipython-input-94-392f435bb6a1>\u001b[0m in \u001b[0;36m<module>\u001b[0;34m\u001b[0m\n\u001b[1;32m      1\u001b[0m \u001b[0mdata\u001b[0m\u001b[0;34m[\u001b[0m\u001b[0mdata\u001b[0m\u001b[0;34m.\u001b[0m\u001b[0many\u001b[0m \u001b[0;34m==\u001b[0m \u001b[0;36m0.20055\u001b[0m\u001b[0;34m]\u001b[0m\u001b[0;31m#.index[0]\u001b[0m\u001b[0;34m\u001b[0m\u001b[0;34m\u001b[0m\u001b[0m\n\u001b[1;32m      2\u001b[0m \u001b[0;31m#pd.Index(data).get_loc(\"?\")\u001b[0m\u001b[0;34m\u001b[0m\u001b[0;34m\u001b[0m\u001b[0;34m\u001b[0m\u001b[0m\n\u001b[0;32m----> 3\u001b[0;31m \u001b[0mdata\u001b[0m\u001b[0;34m.\u001b[0m\u001b[0mfind\u001b[0m\u001b[0;34m(\u001b[0m\u001b[0;34m\"?\"\u001b[0m\u001b[0;34m)\u001b[0m\u001b[0;34m\u001b[0m\u001b[0;34m\u001b[0m\u001b[0m\n\u001b[0m",
      "\u001b[0;32m~/anaconda3/lib/python3.7/site-packages/pandas/core/generic.py\u001b[0m in \u001b[0;36m__getattr__\u001b[0;34m(self, name)\u001b[0m\n\u001b[1;32m   5177\u001b[0m             \u001b[0;32mif\u001b[0m \u001b[0mself\u001b[0m\u001b[0;34m.\u001b[0m\u001b[0m_info_axis\u001b[0m\u001b[0;34m.\u001b[0m\u001b[0m_can_hold_identifiers_and_holds_name\u001b[0m\u001b[0;34m(\u001b[0m\u001b[0mname\u001b[0m\u001b[0;34m)\u001b[0m\u001b[0;34m:\u001b[0m\u001b[0;34m\u001b[0m\u001b[0;34m\u001b[0m\u001b[0m\n\u001b[1;32m   5178\u001b[0m                 \u001b[0;32mreturn\u001b[0m \u001b[0mself\u001b[0m\u001b[0;34m[\u001b[0m\u001b[0mname\u001b[0m\u001b[0;34m]\u001b[0m\u001b[0;34m\u001b[0m\u001b[0;34m\u001b[0m\u001b[0m\n\u001b[0;32m-> 5179\u001b[0;31m             \u001b[0;32mreturn\u001b[0m \u001b[0mobject\u001b[0m\u001b[0;34m.\u001b[0m\u001b[0m__getattribute__\u001b[0m\u001b[0;34m(\u001b[0m\u001b[0mself\u001b[0m\u001b[0;34m,\u001b[0m \u001b[0mname\u001b[0m\u001b[0;34m)\u001b[0m\u001b[0;34m\u001b[0m\u001b[0;34m\u001b[0m\u001b[0m\n\u001b[0m\u001b[1;32m   5180\u001b[0m \u001b[0;34m\u001b[0m\u001b[0m\n\u001b[1;32m   5181\u001b[0m     \u001b[0;32mdef\u001b[0m \u001b[0m__setattr__\u001b[0m\u001b[0;34m(\u001b[0m\u001b[0mself\u001b[0m\u001b[0;34m,\u001b[0m \u001b[0mname\u001b[0m\u001b[0;34m,\u001b[0m \u001b[0mvalue\u001b[0m\u001b[0;34m)\u001b[0m\u001b[0;34m:\u001b[0m\u001b[0;34m\u001b[0m\u001b[0;34m\u001b[0m\u001b[0m\n",
      "\u001b[0;31mAttributeError\u001b[0m: 'DataFrame' object has no attribute 'find'"
     ]
    }
   ],
   "source": [
    "data[data.any == 0.20055]#.index[0]\n",
    "#pd.Index(data).get_loc(\"?\")\n",
    "data.find(\"?\")"
   ]
  },
  {
   "cell_type": "code",
   "execution_count": null,
   "metadata": {},
   "outputs": [],
   "source": [
    "data=np.array(data)#print(data[64])\n",
    "skip=np.array(np.where(\"?\"== data))\n",
    "            #            skip=np.append(skip,j)\n",
    "print(np.shape(skip))\n",
    "#print(data)\n",
    "print(np.delete(data,skip,1))"
   ]
  },
  {
   "cell_type": "code",
   "execution_count": null,
   "metadata": {},
   "outputs": [],
   "source": [
    "for i in range(len(data[:,0])): \n",
    "    for j in range(len(data[0,:])): \n",
    "        data[i,j]=float(data[i,j])"
   ]
  },
  {
   "cell_type": "code",
   "execution_count": 3,
   "metadata": {},
   "outputs": [
    {
     "ename": "TypeError",
     "evalue": "'(slice(None, None, None), 64)' is an invalid key",
     "output_type": "error",
     "traceback": [
      "\u001b[0;31m---------------------------------------------------------------------------\u001b[0m",
      "\u001b[0;31mTypeError\u001b[0m                                 Traceback (most recent call last)",
      "\u001b[0;32m<ipython-input-3-6064d77b4001>\u001b[0m in \u001b[0;36m<module>\u001b[0;34m\u001b[0m\n\u001b[1;32m      1\u001b[0m \u001b[0mfeatures\u001b[0m\u001b[0;34m=\u001b[0m\u001b[0;34m[\u001b[0m\u001b[0;34m]\u001b[0m\u001b[0;34m\u001b[0m\u001b[0;34m\u001b[0m\u001b[0m\n\u001b[0;32m----> 2\u001b[0;31m \u001b[0;32mfor\u001b[0m \u001b[0mi\u001b[0m \u001b[0;32min\u001b[0m \u001b[0mrange\u001b[0m\u001b[0;34m(\u001b[0m\u001b[0;36m1\u001b[0m\u001b[0;34m,\u001b[0m\u001b[0mlen\u001b[0m\u001b[0;34m(\u001b[0m\u001b[0mdata\u001b[0m\u001b[0;34m[\u001b[0m\u001b[0;34m:\u001b[0m\u001b[0;34m,\u001b[0m\u001b[0mn_y\u001b[0m\u001b[0;34m-\u001b[0m\u001b[0;36m1\u001b[0m\u001b[0;34m]\u001b[0m\u001b[0;34m)\u001b[0m\u001b[0;34m+\u001b[0m\u001b[0;36m1\u001b[0m\u001b[0;34m)\u001b[0m\u001b[0;34m:\u001b[0m\u001b[0;34m\u001b[0m\u001b[0;34m\u001b[0m\u001b[0m\n\u001b[0m\u001b[1;32m      3\u001b[0m     \u001b[0mfeatures\u001b[0m\u001b[0;34m=\u001b[0m\u001b[0mnp\u001b[0m\u001b[0;34m.\u001b[0m\u001b[0mappend\u001b[0m\u001b[0;34m(\u001b[0m\u001b[0mfeatures\u001b[0m\u001b[0;34m,\u001b[0m\u001b[0;34m\"Attr{}\"\u001b[0m\u001b[0;34m.\u001b[0m\u001b[0mformat\u001b[0m\u001b[0;34m(\u001b[0m\u001b[0mi\u001b[0m\u001b[0;34m)\u001b[0m\u001b[0;34m)\u001b[0m\u001b[0;34m\u001b[0m\u001b[0;34m\u001b[0m\u001b[0m\n",
      "\u001b[0;32m~/anaconda3/lib/python3.7/site-packages/pandas/core/frame.py\u001b[0m in \u001b[0;36m__getitem__\u001b[0;34m(self, key)\u001b[0m\n\u001b[1;32m   2978\u001b[0m             \u001b[0;32mif\u001b[0m \u001b[0mself\u001b[0m\u001b[0;34m.\u001b[0m\u001b[0mcolumns\u001b[0m\u001b[0;34m.\u001b[0m\u001b[0mnlevels\u001b[0m \u001b[0;34m>\u001b[0m \u001b[0;36m1\u001b[0m\u001b[0;34m:\u001b[0m\u001b[0;34m\u001b[0m\u001b[0;34m\u001b[0m\u001b[0m\n\u001b[1;32m   2979\u001b[0m                 \u001b[0;32mreturn\u001b[0m \u001b[0mself\u001b[0m\u001b[0;34m.\u001b[0m\u001b[0m_getitem_multilevel\u001b[0m\u001b[0;34m(\u001b[0m\u001b[0mkey\u001b[0m\u001b[0;34m)\u001b[0m\u001b[0;34m\u001b[0m\u001b[0;34m\u001b[0m\u001b[0m\n\u001b[0;32m-> 2980\u001b[0;31m             \u001b[0mindexer\u001b[0m \u001b[0;34m=\u001b[0m \u001b[0mself\u001b[0m\u001b[0;34m.\u001b[0m\u001b[0mcolumns\u001b[0m\u001b[0;34m.\u001b[0m\u001b[0mget_loc\u001b[0m\u001b[0;34m(\u001b[0m\u001b[0mkey\u001b[0m\u001b[0;34m)\u001b[0m\u001b[0;34m\u001b[0m\u001b[0;34m\u001b[0m\u001b[0m\n\u001b[0m\u001b[1;32m   2981\u001b[0m             \u001b[0;32mif\u001b[0m \u001b[0mis_integer\u001b[0m\u001b[0;34m(\u001b[0m\u001b[0mindexer\u001b[0m\u001b[0;34m)\u001b[0m\u001b[0;34m:\u001b[0m\u001b[0;34m\u001b[0m\u001b[0;34m\u001b[0m\u001b[0m\n\u001b[1;32m   2982\u001b[0m                 \u001b[0mindexer\u001b[0m \u001b[0;34m=\u001b[0m \u001b[0;34m[\u001b[0m\u001b[0mindexer\u001b[0m\u001b[0;34m]\u001b[0m\u001b[0;34m\u001b[0m\u001b[0;34m\u001b[0m\u001b[0m\n",
      "\u001b[0;32m~/anaconda3/lib/python3.7/site-packages/pandas/core/indexes/base.py\u001b[0m in \u001b[0;36mget_loc\u001b[0;34m(self, key, method, tolerance)\u001b[0m\n\u001b[1;32m   2895\u001b[0m                 )\n\u001b[1;32m   2896\u001b[0m             \u001b[0;32mtry\u001b[0m\u001b[0;34m:\u001b[0m\u001b[0;34m\u001b[0m\u001b[0;34m\u001b[0m\u001b[0m\n\u001b[0;32m-> 2897\u001b[0;31m                 \u001b[0;32mreturn\u001b[0m \u001b[0mself\u001b[0m\u001b[0;34m.\u001b[0m\u001b[0m_engine\u001b[0m\u001b[0;34m.\u001b[0m\u001b[0mget_loc\u001b[0m\u001b[0;34m(\u001b[0m\u001b[0mkey\u001b[0m\u001b[0;34m)\u001b[0m\u001b[0;34m\u001b[0m\u001b[0;34m\u001b[0m\u001b[0m\n\u001b[0m\u001b[1;32m   2898\u001b[0m             \u001b[0;32mexcept\u001b[0m \u001b[0mKeyError\u001b[0m\u001b[0;34m:\u001b[0m\u001b[0;34m\u001b[0m\u001b[0;34m\u001b[0m\u001b[0m\n\u001b[1;32m   2899\u001b[0m                 \u001b[0;32mreturn\u001b[0m \u001b[0mself\u001b[0m\u001b[0;34m.\u001b[0m\u001b[0m_engine\u001b[0m\u001b[0;34m.\u001b[0m\u001b[0mget_loc\u001b[0m\u001b[0;34m(\u001b[0m\u001b[0mself\u001b[0m\u001b[0;34m.\u001b[0m\u001b[0m_maybe_cast_indexer\u001b[0m\u001b[0;34m(\u001b[0m\u001b[0mkey\u001b[0m\u001b[0;34m)\u001b[0m\u001b[0;34m)\u001b[0m\u001b[0;34m\u001b[0m\u001b[0;34m\u001b[0m\u001b[0m\n",
      "\u001b[0;32mpandas/_libs/index.pyx\u001b[0m in \u001b[0;36mpandas._libs.index.IndexEngine.get_loc\u001b[0;34m()\u001b[0m\n",
      "\u001b[0;32mpandas/_libs/index.pyx\u001b[0m in \u001b[0;36mpandas._libs.index.IndexEngine.get_loc\u001b[0;34m()\u001b[0m\n",
      "\u001b[0;31mTypeError\u001b[0m: '(slice(None, None, None), 64)' is an invalid key"
     ]
    }
   ],
   "source": [
    "features=[]\n",
    "for i in range(1,len(data[:,n_y-1])+1):\n",
    "    features=np.append(features,\"Attr{}\".format(i))"
   ]
  },
  {
   "cell_type": "code",
   "execution_count": null,
   "metadata": {},
   "outputs": [],
   "source": [
    "X_train, X_test, y_train, y_test = sklearn.model_selection.train_test_split(\n",
    "                                    data[:,:n_y-2], data[:,n_y-1], test_size=0.5)"
   ]
  },
  {
   "cell_type": "code",
   "execution_count": null,
   "metadata": {},
   "outputs": [],
   "source": [
    "clf = sklearn.ensemble.RandomForestClassifier(n_estimators=10, max_features='sqrt')\n",
    "clf"
   ]
  },
  {
   "cell_type": "code",
   "execution_count": null,
   "metadata": {},
   "outputs": [],
   "source": [
    "n_trees = np.arange(1,400,25)\n",
    "f1_train = []\n",
    "f1_test = []\n",
    "feature_importance = np.zeros((len(n_trees), len(features)))\n",
    "\n",
    "for i, n_tree in enumerate(n_trees):\n",
    "    clf = sklearn.ensemble.RandomForestClassifier(n_estimators=n_tree, max_features='sqrt')\n",
    "    clf.fit(X_train, y_train)\n",
    "    f1_train.append(sklearn.metrics.f1_score(y_train, clf.predict(X_train)))\n",
    "    f1_test.append(sklearn.metrics.f1_score(y_test, clf.predict(X_test)))\n",
    "    feature_importance[i, :] = clf.feature_importances_"
   ]
  },
  {
   "cell_type": "code",
   "execution_count": null,
   "metadata": {},
   "outputs": [],
   "source": [
    "X_train"
   ]
  },
  {
   "cell_type": "code",
   "execution_count": null,
   "metadata": {},
   "outputs": [],
   "source": [
    "y_train"
   ]
  },
  {
   "cell_type": "code",
   "execution_count": null,
   "metadata": {},
   "outputs": [],
   "source": [
    "float(data[0,0])"
   ]
  },
  {
   "cell_type": "code",
   "execution_count": 17,
   "metadata": {},
   "outputs": [
    {
     "name": "stdout",
     "output_type": "stream",
     "text": [
      "['0.24001' '0.44355' '0.18835' '1.44' '-21.165' '-0.9319' '0.24001'\n",
      " '1.2545' '4.7447' '0.55645' '0.24227' '0.56072' 0.1951 '0.24001' '174.89'\n",
      " '2.087' '2.2545' '0.24001' 0.050585000000000005 22.026999999999997\n",
      " '1.6856' '0' 0.050585000000000005 '?' '-0.63075' '2.087' '0' '0.491'\n",
      " '3.2184' 0.091302 0.1082 '50.94' '7.1653' '6.9146' '0.01533' '4.7447' '?'\n",
      " '0.55645' 0.0032310000000000004 '0.12237' '0.021562' 0.0\n",
      " 43.388000000000005 21.361 '0.83822' '0.7711' '34.076' '-0.6857' -0.14452\n",
      " '1.3897' '0.42804' '0.13956' '1.4505' '1.4505' 311.43 0.35359 '0.43132'\n",
      " 0.64794 '0' '16.571' '17.087' 32.928000000000004 '11.085' '12.369' 0]\n"
     ]
    }
   ],
   "source": [
    "print(data[10])"
   ]
  },
  {
   "cell_type": "code",
   "execution_count": 33,
   "metadata": {},
   "outputs": [
    {
     "ename": "NameError",
     "evalue": "name 'array' is not defined",
     "output_type": "error",
     "traceback": [
      "\u001b[0;31m---------------------------------------------------------------------------\u001b[0m",
      "\u001b[0;31mNameError\u001b[0m                                 Traceback (most recent call last)",
      "\u001b[0;32m<ipython-input-33-027baac4ae27>\u001b[0m in \u001b[0;36m<module>\u001b[0;34m\u001b[0m\n\u001b[0;32m----> 1\u001b[0;31m \u001b[0marray\u001b[0m\u001b[0;34m(\u001b[0m\u001b[0mdata\u001b[0m\u001b[0;34m)\u001b[0m\u001b[0;34m.\u001b[0m\u001b[0mindex\u001b[0m\u001b[0;34m(\u001b[0m\u001b[0;34m\"?\"\u001b[0m\u001b[0;34m)\u001b[0m\u001b[0;34m\u001b[0m\u001b[0;34m\u001b[0m\u001b[0m\n\u001b[0m",
      "\u001b[0;31mNameError\u001b[0m: name 'array' is not defined"
     ]
    }
   ],
   "source": [
    "array(data).index(\"?\")"
   ]
  },
  {
   "cell_type": "code",
   "execution_count": 39,
   "metadata": {},
   "outputs": [
    {
     "data": {
      "text/plain": [
       "(array([   1,    1,    2, ..., 7024, 7024, 7026]),\n",
       " array([23, 36, 23, ..., 26, 36, 20]))"
      ]
     },
     "execution_count": 39,
     "metadata": {},
     "output_type": "execute_result"
    }
   ],
   "source": [
    "np.where(\"?\"== data)"
   ]
  },
  {
   "cell_type": "code",
   "execution_count": 52,
   "metadata": {},
   "outputs": [
    {
     "data": {
      "text/plain": [
       "(array([2]),)"
      ]
     },
     "execution_count": 52,
     "metadata": {},
     "output_type": "execute_result"
    }
   ],
   "source": [
    "a=np.array([\"a\",\"b\",\"c\"])\n",
    "np.where(a==\"c\")"
   ]
  },
  {
   "cell_type": "code",
   "execution_count": 55,
   "metadata": {},
   "outputs": [
    {
     "data": {
      "text/plain": [
       "(array([0, 0, 1, 1]), array([0, 2, 0, 2]))"
      ]
     },
     "execution_count": 55,
     "metadata": {},
     "output_type": "execute_result"
    }
   ],
   "source": [
    "a=np.array([[1,2,1],[1,2,1]])\n",
    "np.where(a==1)"
   ]
  },
  {
   "cell_type": "code",
   "execution_count": null,
   "metadata": {},
   "outputs": [],
   "source": []
  }
 ],
 "metadata": {
  "kernelspec": {
   "display_name": "Python 3",
   "language": "python",
   "name": "python3"
  },
  "language_info": {
   "codemirror_mode": {
    "name": "ipython",
    "version": 3
   },
   "file_extension": ".py",
   "mimetype": "text/x-python",
   "name": "python",
   "nbconvert_exporter": "python",
   "pygments_lexer": "ipython3",
   "version": "3.7.4"
  }
 },
 "nbformat": 4,
 "nbformat_minor": 2
}
