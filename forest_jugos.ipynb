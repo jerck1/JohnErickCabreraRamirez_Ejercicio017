{
 "cells": [
  {
   "cell_type": "code",
   "execution_count": 14,
   "metadata": {},
   "outputs": [],
   "source": [
    "import numpy as np\n",
    "import matplotlib.pyplot as plt\n",
    "import pandas as pd # para leer datos\n",
    "import sklearn.ensemble # para el random forest\n",
    "import sklearn.model_selection # para split train-test\n",
    "import sklearn.metrics # para calcular el f1-score\n",
    "%matplotlib inline"
   ]
  },
  {
   "cell_type": "code",
   "execution_count": 18,
   "metadata": {},
   "outputs": [
    {
     "name": "stdout",
     "output_type": "stream",
     "text": [
      "['WeekofPurchase', 'StoreID', 'PriceCH', 'PriceMM', 'DiscCH', 'DiscMM', 'SpecialCH', 'SpecialMM', 'LoyalCH', 'SalePriceMM', 'SalePriceCH', 'PriceDiff', 'ListPriceDiff', 'STORE'] (14,)\n",
      "(1070, 14)\n",
      "(1070,)\n"
     ]
    }
   ],
   "source": [
    "# Carga datos\n",
    "data = pd.read_csv('OJ.csv')\n",
    "\n",
    "# Remueve datos que no se van a utilizar\n",
    "data = data.drop(['Store7', 'PctDiscCH','PctDiscMM'],axis=1)\n",
    "\n",
    "# Crea un nuevo array que sera el target, 0 si MM, 1 si CH\n",
    "purchasebin = np.ones(len(data), dtype=int)\n",
    "ii = np.array(data['Purchase']=='MM')\n",
    "purchasebin[ii] = 0\n",
    "\n",
    "data['Target'] = purchasebin\n",
    "\n",
    "# Borra la columna Purchase\n",
    "data = data.drop(['Purchase'],axis=1)\n",
    "\n",
    "# Crea un dataframe con los predictores\n",
    "predictors = list(data.keys())\n",
    "predictors.remove('Target')\n",
    "predictors.remove('Unnamed: 0')\n",
    "print(predictors, np.shape(np.array(predictors)))\n",
    "print(np.shape(data[predictors]))\n",
    "print(np.shape(data['Target']))\n"
   ]
  },
  {
   "cell_type": "code",
   "execution_count": 19,
   "metadata": {},
   "outputs": [],
   "source": [
    "X_train, X_test, y_train, y_test = sklearn.model_selection.train_test_split(\n",
    "                                    data[predictors], data['Target'], test_size=0.5)"
   ]
  },
  {
   "cell_type": "code",
   "execution_count": 4,
   "metadata": {},
   "outputs": [
    {
     "data": {
      "text/plain": [
       "RandomForestClassifier(bootstrap=True, class_weight=None, criterion='gini',\n",
       "                       max_depth=None, max_features='sqrt', max_leaf_nodes=None,\n",
       "                       min_impurity_decrease=0.0, min_impurity_split=None,\n",
       "                       min_samples_leaf=1, min_samples_split=2,\n",
       "                       min_weight_fraction_leaf=0.0, n_estimators=10,\n",
       "                       n_jobs=None, oob_score=False, random_state=None,\n",
       "                       verbose=0, warm_start=False)"
      ]
     },
     "execution_count": 4,
     "metadata": {},
     "output_type": "execute_result"
    }
   ],
   "source": [
    "clf = sklearn.ensemble.RandomForestClassifier(n_estimators=10, max_features='sqrt')\n",
    "clf"
   ]
  },
  {
   "cell_type": "code",
   "execution_count": 5,
   "metadata": {},
   "outputs": [],
   "source": [
    "n_trees = np.arange(1,400,25)\n",
    "f1_train = []\n",
    "f1_test = []\n",
    "feature_importance = np.zeros((len(n_trees), len(predictors)))\n",
    "\n",
    "for i, n_tree in enumerate(n_trees):\n",
    "    clf = sklearn.ensemble.RandomForestClassifier(n_estimators=n_tree, max_features='sqrt')\n",
    "    clf.fit(X_train, y_train)\n",
    "    f1_train.append(sklearn.metrics.f1_score(y_train, clf.predict(X_train)))\n",
    "    f1_test.append(sklearn.metrics.f1_score(y_test, clf.predict(X_test)))\n",
    "    feature_importance[i, :] = clf.feature_importances_"
   ]
  },
  {
   "cell_type": "code",
   "execution_count": 10,
   "metadata": {},
   "outputs": [
    {
     "data": {
      "text/plain": [
       "Text(0.5, 0, 'n_trees')"
      ]
     },
     "execution_count": 10,
     "metadata": {},
     "output_type": "execute_result"
    },
    {
     "data": {
      "image/png": "[encoded data removed]",
      "text/plain": [
       "<Figure size 432x288 with 1 Axes>"
      ]
     },
     "metadata": {
      "needs_background": "light"
     },
     "output_type": "display_data"
    }
   ],
   "source": [
    "plt.scatter(n_trees, f1_test)\n",
    "plt.xlabel(\"n_trees\")"
   ]
  },
  {
   "cell_type": "code",
   "execution_count": 12,
   "metadata": {},
   "outputs": [
    {
     "data": {
      "text/plain": [
       "(16, 14)"
      ]
     },
     "execution_count": 12,
     "metadata": {},
     "output_type": "execute_result"
    }
   ],
   "source": [
    "np.shape(feature_importance)"
   ]
  },
  {
   "cell_type": "code",
   "execution_count": 7,
   "metadata": {},
   "outputs": [
    {
     "name": "stdout",
     "output_type": "stream",
     "text": [
      "WeekofPurchase    0.108732\n",
      "StoreID           0.072219\n",
      "PriceCH           0.020514\n",
      "PriceMM           0.018849\n",
      "DiscCH            0.014665\n",
      "DiscMM            0.020945\n",
      "SpecialCH         0.014048\n",
      "SpecialMM         0.014508\n",
      "LoyalCH           0.518266\n",
      "SalePriceMM       0.037082\n",
      "SalePriceCH       0.024117\n",
      "PriceDiff         0.054158\n",
      "ListPriceDiff     0.037322\n",
      "STORE             0.044574\n",
      "dtype: float64\n"
     ]
    },
    {
     "data": {
      "text/plain": [
       "Text(0.5, 0, 'Average Feature Importance')"
      ]
     },
     "execution_count": 7,
     "metadata": {},
     "output_type": "execute_result"
    },
    {
     "data": {
      "image/png": "[encoded data removed]",
      "text/plain": [
       "<Figure size 432x288 with 1 Axes>"
      ]
     },
     "metadata": {
      "needs_background": "light"
     },
     "output_type": "display_data"
    }
   ],
   "source": [
    "# Grafica los features mas importantes\n",
    "avg_importance = np.average(feature_importance, axis=0)\n",
    "a = pd.Series(avg_importance, index=predictors)\n",
    "print(a)\n",
    "a.nlargest().plot(kind='barh')\n",
    "plt.xlabel('Average Feature Importance')"
   ]
  },
  {
   "cell_type": "code",
   "execution_count": 20,
   "metadata": {},
   "outputs": [
    {
     "data": {
      "text/plain": [
       "array([  1,  26,  51,  76, 101, 126, 151, 176, 201, 226, 251, 276, 301,\n",
       "       326, 351, 376])"
      ]
     },
     "execution_count": 20,
     "metadata": {},
     "output_type": "execute_result"
    }
   ],
   "source": [
    "n_trees"
   ]
  },
  {
   "cell_type": "code",
   "execution_count": 21,
   "metadata": {},
   "outputs": [
    {
     "data": {
      "text/plain": [
       "(1070, 16)"
      ]
     },
     "execution_count": 21,
     "metadata": {},
     "output_type": "execute_result"
    }
   ],
   "source": [
    "np.shape(data)"
   ]
  },
  {
   "cell_type": "code",
   "execution_count": null,
   "metadata": {},
   "outputs": [],
   "source": []
  }
 ],
 "metadata": {
  "kernelspec": {
   "display_name": "Python 3",
   "language": "python",
   "name": "python3"
  },
  "language_info": {
   "codemirror_mode": {
    "name": "ipython",
    "version": 3
   },
   "file_extension": ".py",
   "mimetype": "text/x-python",
   "name": "python",
   "nbconvert_exporter": "python",
   "pygments_lexer": "ipython3",
   "version": "3.7.4"
  }
 },
 "nbformat": 4,
 "nbformat_minor": 4
}
